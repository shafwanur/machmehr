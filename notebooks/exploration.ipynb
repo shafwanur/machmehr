{
 "cells": [
  {
   "cell_type": "markdown",
   "id": "6e6c25b4",
   "metadata": {},
   "source": [
    "First, the data seems to have a lot of duplicates."
   ]
  },
  {
   "cell_type": "code",
   "execution_count": 15,
   "id": "c7a02d27",
   "metadata": {},
   "outputs": [
    {
     "name": "stdout",
     "output_type": "stream",
     "text": [
      "len(names)=62262\n",
      "len(unique_entries)=38621\n",
      "~~Garbage~~ Irrelevant Data Anteil:  37.970190485368285\n"
     ]
    }
   ],
   "source": [
    "with open('../data/orig_names.txt', 'r', encoding='utf-8') as f:\n",
    "  names = f.readlines()\n",
    "\n",
    "names = [name.strip() for name in names if name.strip()]\n",
    "\n",
    "print(f\"{len(names)=}\")\n",
    "\n",
    "unique_entries = set(names)\n",
    "print(f\"{len(unique_entries)=}\")\n",
    "\n",
    "print(\"~~Garbage~~ Irrelevant Data Anteil: \", 100 - (len(unique_entries) / len(names)) * 100)"
   ]
  },
  {
   "cell_type": "markdown",
   "id": "e1cdee55",
   "metadata": {},
   "source": [
    "Sad. Maybe I get the data from a better source. For now, let's train using the ~40000 entries set. "
   ]
  },
  {
   "cell_type": "code",
   "execution_count": 18,
   "id": "5757afe7",
   "metadata": {},
   "outputs": [],
   "source": [
    "with open('../data/names.txt', 'w', encoding='utf-8') as f:\n",
    "  for name in unique_entries:\n",
    "    f.write(name + '\\n')"
   ]
  }
 ],
 "metadata": {
  "kernelspec": {
   "display_name": "Python 3",
   "language": "python",
   "name": "python3"
  },
  "language_info": {
   "codemirror_mode": {
    "name": "ipython",
    "version": 3
   },
   "file_extension": ".py",
   "mimetype": "text/x-python",
   "name": "python",
   "nbconvert_exporter": "python",
   "pygments_lexer": "ipython3",
   "version": "3.11.2"
  }
 },
 "nbformat": 4,
 "nbformat_minor": 5
}
